{
 "cells": [
  {
   "cell_type": "code",
   "execution_count": 1,
   "metadata": {},
   "outputs": [],
   "source": [
    "# Dependencies and Setup\n",
    "import matplotlib.pyplot as plt\n",
    "import pandas as pd\n",
    "import numpy as np\n",
    "import requests\n",
    "import time\n",
    "\n",
    "# Import API key\n",
    "from config import api_key"
   ]
  },
  {
   "cell_type": "code",
   "execution_count": 4,
   "metadata": {},
   "outputs": [],
   "source": [
    "weather_today = {\"Latitude\":[], \"Max. Temperature\": []}\n",
    "path = \"Weather_info.csv\"\n",
    "weather_data = pd.read_csv(path)\n",
    "header = next(weather_data)\n",
    "For row in weather_data:\n",
    "        weather_today[\"Max. Temperature\"].append(row[5])\n",
    "        weather_today[\"Latitude\"].append(row[3])\n",
    "                  \n",
    "    "
   ]
  },
  {
   "cell_type": "code",
   "execution_count": null,
   "metadata": {},
   "outputs": [],
   "source": [
    "plt.figure(figsize=(10,7))\n",
    "\n",
    "plt.scatter(weather_today[\"Latitude\"], weather_today[\"Max. Temperature\"], marker=\"o\",zorder=2, color=\"blue\", edgecolor=\"black\")\n",
    "plt.title(f\"City Latitude vs Max. Temperature ({date_today})\")\n",
    "plt.ylabel(\"Max. Temperature (Celsius)\")\n",
    "plt.xlabel(\"Latitude\")\n",
    "plt.grid(zorder=0, color='white')\n",
    "plt.savefig(\"Temperature in Cities.png\")\n",
    "\n",
    "plt.show()"
   ]
  },
  {
   "cell_type": "code",
   "execution_count": null,
   "metadata": {},
   "outputs": [],
   "source": []
  },
  {
   "cell_type": "code",
   "execution_count": 24,
   "metadata": {},
   "outputs": [
    {
     "data": {
      "text/plain": [
       "{'coord': {'lon': 2.35, 'lat': 48.86},\n",
       " 'weather': [{'id': 804,\n",
       "   'main': 'Clouds',\n",
       "   'description': 'overcast clouds',\n",
       "   'icon': '04n'}],\n",
       " 'base': 'stations',\n",
       " 'main': {'temp': 12.75,\n",
       "  'pressure': 1015,\n",
       "  'humidity': 82,\n",
       "  'temp_min': 11,\n",
       "  'temp_max': 14},\n",
       " 'visibility': 10000,\n",
       " 'wind': {'speed': 3.1, 'deg': 230},\n",
       " 'clouds': {'all': 90},\n",
       " 'dt': 1536283800,\n",
       " 'sys': {'type': 1,\n",
       "  'id': 5610,\n",
       "  'message': 0.0041,\n",
       "  'country': 'FR',\n",
       "  'sunrise': 1536297341,\n",
       "  'sunset': 1536344435},\n",
       " 'id': 2988507,\n",
       " 'name': 'Paris',\n",
       " 'cod': 200}"
      ]
     },
     "execution_count": 24,
     "metadata": {},
     "output_type": "execute_result"
    }
   ],
   "source": [
    "weather_response = requests.get(query_url+city).json()\n",
    "weather_response"
   ]
  },
  {
   "cell_type": "code",
   "execution_count": 27,
   "metadata": {},
   "outputs": [],
   "source": [
    "if weather_response['cod']=='404':\n",
    "    print(\"City not found. Skipping...\")"
   ]
  },
  {
   "cell_type": "code",
   "execution_count": 26,
   "metadata": {},
   "outputs": [
    {
     "name": "stdout",
     "output_type": "stream",
     "text": [
      "{'coord': {'lon': 2.35, 'lat': 48.86}, 'weather': [{'id': 804, 'main': 'Clouds', 'description': 'overcast clouds', 'icon': '04n'}], 'base': 'stations', 'main': {'temp': 12.75, 'pressure': 1015, 'humidity': 82, 'temp_min': 11, 'temp_max': 14}, 'visibility': 10000, 'wind': {'speed': 3.1, 'deg': 230}, 'clouds': {'all': 90}, 'dt': 1536283800, 'sys': {'type': 1, 'id': 5610, 'message': 0.0041, 'country': 'FR', 'sunrise': 1536297341, 'sunset': 1536344435}, 'id': 2988507, 'name': 'Paris', 'cod': 200}\n",
      "Processing Record Paris\n"
     ]
    }
   ],
   "source": [
    "try:\n",
    "    print(weather_response)\n",
    "    print(f\"Processing Record {city}\")\n",
    "except:\n",
    "    print(\"City not found. Skipping...\")\n",
    "    "
   ]
  },
  {
   "cell_type": "code",
   "execution_count": null,
   "metadata": {},
   "outputs": [],
   "source": [
    "            try:\n",
    "                weather_dict[\"Country\"].append(weather_response['sys']['country'])  \n",
    "            except KeyError:\n",
    "                weather_dict[\"Country\"].append(0)          \n",
    "            try:    \n",
    "                weather_dict[\"Latitude\"].append(weather_response['coord']['lat'])\n",
    "            except KeyError:\n",
    "                weather_dict[\"Latitude\"].append(0)\n",
    "            try:    \n",
    "                weather_dict[\"Humidity\"].append(weather_response['main']['humidity'])\n",
    "            except KeyError:\n",
    "                weather_dict[\"Humidity\"].append(0)\n",
    "            try:    \n",
    "                weather_dict[\"Max. Temperature\"].append(weather_response['main']['temp_max'])\n",
    "            except KeyError:\n",
    "                weather_dict[\"Max. Temperature\"].append(0)\n",
    "            try:    \n",
    "                weather_dict[\"Cloudiness\"].append(weather_response['clouds']['all'])\n",
    "            except KeyError:\n",
    "                weather_dict[\"Cloudiness\"].append(0)\n",
    "            try:    \n",
    "                weather_dict[\"Wind Speed\"].append(weather_response['wind']['speed'])     \n",
    "            except KeyError:"
   ]
  }
 ],
 "metadata": {
  "kernelspec": {
   "display_name": "Python 3",
   "language": "python",
   "name": "python3"
  },
  "language_info": {
   "codemirror_mode": {
    "name": "ipython",
    "version": 3
   },
   "file_extension": ".py",
   "mimetype": "text/x-python",
   "name": "python",
   "nbconvert_exporter": "python",
   "pygments_lexer": "ipython3",
   "version": "3.6.5"
  }
 },
 "nbformat": 4,
 "nbformat_minor": 2
}
